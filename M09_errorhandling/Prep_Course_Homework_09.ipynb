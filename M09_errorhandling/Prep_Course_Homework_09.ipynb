{
 "cells": [
  {
   "attachments": {},
   "cell_type": "markdown",
   "metadata": {},
   "source": [
    "## Manejo de errores"
   ]
  },
  {
   "attachments": {},
   "cell_type": "markdown",
   "metadata": {},
   "source": [
    "1) Con la clase creada en el módulo 7, tener en cuenta diferentes casos en que el código pudiera arrojar error. Por ejemplo, en la creación del objeto recibimos una lista de números enteros pero ¿qué pasa si se envía otro tipo de dato?"
   ]
  },
  {
   "cell_type": "code",
   "execution_count": 13,
   "metadata": {},
   "outputs": [],
   "source": [
    "class Fun_modulo7:\n",
    "    def __init__(self,lista_num):\n",
    "        self.lista=lista_num\n",
    "\n",
    "    def primo(self):\n",
    "        cont=0\n",
    "        for i in self.lista:\n",
    "            for j in range(0,i):\n",
    "                if j%i == 0:\n",
    "                    cont+=1\n",
    "            if cont <2:\n",
    "                print(j,\"es un numero primo\")\n",
    "            else:\n",
    "                print(j,\"no es un numero primo\")\n",
    "    \n",
    "    def modal(self):\n",
    "        cont=0\n",
    "        valor=0\n",
    "        max=0\n",
    "        for i in self.lista:\n",
    "            for j in self.lista:\n",
    "                if i == j:\n",
    "                    cont+=1\n",
    "            if cont>max:\n",
    "                valor=i\n",
    "                max=cont\n",
    "            cont=0\n",
    "        print(\"El numero\",valor,\"de la lista es el mas repetido y se repite\",max,\"veces\")\n",
    "    \n",
    "    def conversor_grados(self,escala1,escala2):\n",
    "        for i in self.lista:\n",
    "            if escala1 == \"C\"  and escala2 == \"C\":\n",
    "                valor = i \n",
    "            if escala1 == \"C\"  and escala2 == \"F\":\n",
    "                valor = i * 9/5 + 32\n",
    "            elif escala1 == \"C\"  and escala2 == \"K\":\n",
    "                valor = i + 273.15\n",
    "            elif escala1 == \"F\"  and escala2 == \"F\":\n",
    "                valor = i\n",
    "            elif escala1 == \"F\"  and escala2 == \"C\":\n",
    "                valor = (i + 32)*5/9\n",
    "            elif escala1 == \"F\"  and escala2 == \"K\":\n",
    "                valor = (i + 32)*5/9 +273.15\n",
    "            elif escala1 == \"K\"  and escala2 == \"K\":\n",
    "                valor = i\n",
    "            elif escala1 == \"K\"  and escala2 == \"C\":\n",
    "                valor = i - 273.15\n",
    "            elif escala1 == \"K\"  and escala2 == \"F\":\n",
    "                valor = (i - 273.15) * 9/5 + 32\n",
    "            print(i,escala1,\"equivale a\",valor,escala2)\n",
    "    \n",
    "    def factorial(self,num):\n",
    "        if num >=0:\n",
    "            if type(num)== int:\n",
    "                if(num>1):\n",
    "                    num=num*self.factorial(num-1)\n",
    "                return num\n",
    "            else:\n",
    "                return \"Solo se permite numeros enteros\"\n",
    "        else:\n",
    "            return \"No se permite numeros negativos\"\n",
    "    def fact(self):\n",
    "        for i in self.lista:\n",
    "            print(\"El factorial de\",i,\"es:\",self.factorial(i))"
   ]
  },
  {
   "cell_type": "code",
   "execution_count": 5,
   "metadata": {},
   "outputs": [
    {
     "name": "stdout",
     "output_type": "stream",
     "text": [
      "1 es un numero primo\n",
      "2 no es un numero primo\n",
      "3 no es un numero primo\n"
     ]
    },
    {
     "ename": "TypeError",
     "evalue": "'str' object cannot be interpreted as an integer",
     "output_type": "error",
     "traceback": [
      "\u001b[1;31m---------------------------------------------------------------------------\u001b[0m",
      "\u001b[1;31mTypeError\u001b[0m                                 Traceback (most recent call last)",
      "Cell \u001b[1;32mIn[5], line 3\u001b[0m\n\u001b[0;32m      1\u001b[0m fun2 \u001b[38;5;241m=\u001b[39m Fun_modulo7([\u001b[38;5;241m2\u001b[39m,\u001b[38;5;241m3\u001b[39m,\u001b[38;5;241m4\u001b[39m,\u001b[38;5;124m\"\u001b[39m\u001b[38;5;124me\u001b[39m\u001b[38;5;124m\"\u001b[39m,\u001b[38;5;241m6\u001b[39m,\u001b[38;5;241m8\u001b[39m,\u001b[38;5;241m4\u001b[39m,\u001b[38;5;241m3\u001b[39m,\u001b[38;5;241m4\u001b[39m,\u001b[38;5;241m6\u001b[39m,\u001b[38;5;241m4\u001b[39m,\u001b[38;5;241m0\u001b[39m,\u001b[38;5;241m4\u001b[39m])\n\u001b[1;32m----> 3\u001b[0m \u001b[43mfun2\u001b[49m\u001b[38;5;241;43m.\u001b[39;49m\u001b[43mprimo\u001b[49m\u001b[43m(\u001b[49m\u001b[43m)\u001b[49m\n\u001b[0;32m      4\u001b[0m fun2\u001b[38;5;241m.\u001b[39mmodal()\n\u001b[0;32m      5\u001b[0m fun2\u001b[38;5;241m.\u001b[39mconversor_grados(\u001b[38;5;124m\"\u001b[39m\u001b[38;5;124mK\u001b[39m\u001b[38;5;124m\"\u001b[39m,\u001b[38;5;124m\"\u001b[39m\u001b[38;5;124mF\u001b[39m\u001b[38;5;124m\"\u001b[39m)\n",
      "Cell \u001b[1;32mIn[1], line 8\u001b[0m, in \u001b[0;36mFun_modulo7.primo\u001b[1;34m(self)\u001b[0m\n\u001b[0;32m      6\u001b[0m cont\u001b[38;5;241m=\u001b[39m\u001b[38;5;241m0\u001b[39m\n\u001b[0;32m      7\u001b[0m \u001b[38;5;28;01mfor\u001b[39;00m i \u001b[38;5;129;01min\u001b[39;00m \u001b[38;5;28mself\u001b[39m\u001b[38;5;241m.\u001b[39mlista:\n\u001b[1;32m----> 8\u001b[0m     \u001b[38;5;28;01mfor\u001b[39;00m j \u001b[38;5;129;01min\u001b[39;00m \u001b[38;5;28mrange\u001b[39m(\u001b[38;5;241m0\u001b[39m,i):\n\u001b[0;32m      9\u001b[0m         \u001b[38;5;28;01mif\u001b[39;00m j\u001b[38;5;241m%\u001b[39mi \u001b[38;5;241m==\u001b[39m \u001b[38;5;241m0\u001b[39m:\n\u001b[0;32m     10\u001b[0m             cont\u001b[38;5;241m+\u001b[39m\u001b[38;5;241m=\u001b[39m\u001b[38;5;241m1\u001b[39m\n",
      "\u001b[1;31mTypeError\u001b[0m: 'str' object cannot be interpreted as an integer"
     ]
    }
   ],
   "source": [
    "fun2 = Fun_modulo7([2,3,4,\"e\",6,8,4,3,4,6,4,0,4])\n",
    "\n",
    "fun2.primo()\n",
    "fun2.modal()\n",
    "fun2.conversor_grados(\"K\",\"F\")\n",
    "fun2.fact()"
   ]
  },
  {
   "cell_type": "code",
   "execution_count": 6,
   "metadata": {},
   "outputs": [
    {
     "name": "stdout",
     "output_type": "stream",
     "text": [
      "1 es un numero primo\n",
      "2 no es un numero primo\n",
      "3 no es un numero primo\n"
     ]
    },
    {
     "ename": "TypeError",
     "evalue": "'float' object cannot be interpreted as an integer",
     "output_type": "error",
     "traceback": [
      "\u001b[1;31m---------------------------------------------------------------------------\u001b[0m",
      "\u001b[1;31mTypeError\u001b[0m                                 Traceback (most recent call last)",
      "Cell \u001b[1;32mIn[6], line 3\u001b[0m\n\u001b[0;32m      1\u001b[0m fun2 \u001b[38;5;241m=\u001b[39m Fun_modulo7([\u001b[38;5;241m2\u001b[39m,\u001b[38;5;241m3\u001b[39m,\u001b[38;5;241m4\u001b[39m,\u001b[38;5;241m4.6\u001b[39m,\u001b[38;5;241m6\u001b[39m,\u001b[38;5;241m8\u001b[39m,\u001b[38;5;241m4\u001b[39m,\u001b[38;5;241m3\u001b[39m,\u001b[38;5;241m4\u001b[39m,\u001b[38;5;241m6\u001b[39m,\u001b[38;5;241m4\u001b[39m,\u001b[38;5;241m0\u001b[39m,\u001b[38;5;241m4\u001b[39m])\n\u001b[1;32m----> 3\u001b[0m \u001b[43mfun2\u001b[49m\u001b[38;5;241;43m.\u001b[39;49m\u001b[43mprimo\u001b[49m\u001b[43m(\u001b[49m\u001b[43m)\u001b[49m\n\u001b[0;32m      4\u001b[0m fun2\u001b[38;5;241m.\u001b[39mmodal()\n\u001b[0;32m      5\u001b[0m fun2\u001b[38;5;241m.\u001b[39mconversor_grados(\u001b[38;5;124m\"\u001b[39m\u001b[38;5;124mK\u001b[39m\u001b[38;5;124m\"\u001b[39m,\u001b[38;5;124m\"\u001b[39m\u001b[38;5;124mF\u001b[39m\u001b[38;5;124m\"\u001b[39m)\n",
      "Cell \u001b[1;32mIn[1], line 8\u001b[0m, in \u001b[0;36mFun_modulo7.primo\u001b[1;34m(self)\u001b[0m\n\u001b[0;32m      6\u001b[0m cont\u001b[38;5;241m=\u001b[39m\u001b[38;5;241m0\u001b[39m\n\u001b[0;32m      7\u001b[0m \u001b[38;5;28;01mfor\u001b[39;00m i \u001b[38;5;129;01min\u001b[39;00m \u001b[38;5;28mself\u001b[39m\u001b[38;5;241m.\u001b[39mlista:\n\u001b[1;32m----> 8\u001b[0m     \u001b[38;5;28;01mfor\u001b[39;00m j \u001b[38;5;129;01min\u001b[39;00m \u001b[38;5;28mrange\u001b[39m(\u001b[38;5;241m0\u001b[39m,i):\n\u001b[0;32m      9\u001b[0m         \u001b[38;5;28;01mif\u001b[39;00m j\u001b[38;5;241m%\u001b[39mi \u001b[38;5;241m==\u001b[39m \u001b[38;5;241m0\u001b[39m:\n\u001b[0;32m     10\u001b[0m             cont\u001b[38;5;241m+\u001b[39m\u001b[38;5;241m=\u001b[39m\u001b[38;5;241m1\u001b[39m\n",
      "\u001b[1;31mTypeError\u001b[0m: 'float' object cannot be interpreted as an integer"
     ]
    }
   ],
   "source": [
    "fun2 = Fun_modulo7([2,3,4,4.6,6,8,4,3,4,6,4,0,4])\n",
    "\n",
    "fun2.primo()\n",
    "fun2.modal()\n",
    "fun2.conversor_grados(\"K\",\"F\")\n",
    "fun2.fact()"
   ]
  },
  {
   "cell_type": "code",
   "execution_count": 3,
   "metadata": {},
   "outputs": [
    {
     "name": "stdout",
     "output_type": "stream",
     "text": [
      "1 es un numero primo\n",
      "2 no es un numero primo\n",
      "3 no es un numero primo\n",
      "1 no es un numero primo\n",
      "5 no es un numero primo\n",
      "7 no es un numero primo\n",
      "3 no es un numero primo\n",
      "2 no es un numero primo\n",
      "3 no es un numero primo\n",
      "5 no es un numero primo\n",
      "3 no es un numero primo\n",
      "3 no es un numero primo\n",
      "3 no es un numero primo\n",
      "El numero 4 de la lista es el mas repetido y se repite 5 veces\n"
     ]
    },
    {
     "ename": "UnboundLocalError",
     "evalue": "cannot access local variable 'valor' where it is not associated with a value",
     "output_type": "error",
     "traceback": [
      "\u001b[1;31m---------------------------------------------------------------------------\u001b[0m",
      "\u001b[1;31mUnboundLocalError\u001b[0m                         Traceback (most recent call last)",
      "Cell \u001b[1;32mIn[3], line 5\u001b[0m\n\u001b[0;32m      3\u001b[0m fun2\u001b[38;5;241m.\u001b[39mprimo()\n\u001b[0;32m      4\u001b[0m fun2\u001b[38;5;241m.\u001b[39mmodal()\n\u001b[1;32m----> 5\u001b[0m \u001b[43mfun2\u001b[49m\u001b[38;5;241;43m.\u001b[39;49m\u001b[43mconversor_grados\u001b[49m\u001b[43m(\u001b[49m\u001b[38;5;124;43m\"\u001b[39;49m\u001b[38;5;124;43mf\u001b[39;49m\u001b[38;5;124;43m\"\u001b[39;49m\u001b[43m,\u001b[49m\u001b[38;5;124;43m\"\u001b[39;49m\u001b[38;5;124;43mh\u001b[39;49m\u001b[38;5;124;43m\"\u001b[39;49m\u001b[43m)\u001b[49m\n\u001b[0;32m      6\u001b[0m fun2\u001b[38;5;241m.\u001b[39mfact()\n",
      "Cell \u001b[1;32mIn[1], line 50\u001b[0m, in \u001b[0;36mFun_modulo7.conversor_grados\u001b[1;34m(self, escala1, escala2)\u001b[0m\n\u001b[0;32m     48\u001b[0m \u001b[38;5;28;01melif\u001b[39;00m escala1 \u001b[38;5;241m==\u001b[39m \u001b[38;5;124m\"\u001b[39m\u001b[38;5;124mK\u001b[39m\u001b[38;5;124m\"\u001b[39m  \u001b[38;5;129;01mand\u001b[39;00m escala2 \u001b[38;5;241m==\u001b[39m \u001b[38;5;124m\"\u001b[39m\u001b[38;5;124mF\u001b[39m\u001b[38;5;124m\"\u001b[39m:\n\u001b[0;32m     49\u001b[0m     valor \u001b[38;5;241m=\u001b[39m (i \u001b[38;5;241m-\u001b[39m \u001b[38;5;241m273.15\u001b[39m) \u001b[38;5;241m*\u001b[39m \u001b[38;5;241m9\u001b[39m\u001b[38;5;241m/\u001b[39m\u001b[38;5;241m5\u001b[39m \u001b[38;5;241m+\u001b[39m \u001b[38;5;241m32\u001b[39m\n\u001b[1;32m---> 50\u001b[0m \u001b[38;5;28mprint\u001b[39m(i,escala1,\u001b[38;5;124;43m\"\u001b[39;49m\u001b[38;5;124;43mequivale a\u001b[39;49m\u001b[38;5;124;43m\"\u001b[39;49m,valor,escala2)\n",
      "\u001b[1;31mUnboundLocalError\u001b[0m: cannot access local variable 'valor' where it is not associated with a value"
     ]
    }
   ],
   "source": [
    "fun2 = Fun_modulo7([2,3,4,2,6,8,4,3,4,6,4,0,4])\n",
    "\n",
    "fun2.primo()\n",
    "fun2.modal()\n",
    "fun2.conversor_grados(\"f\",\"h\")\n",
    "fun2.fact()"
   ]
  },
  {
   "attachments": {},
   "cell_type": "markdown",
   "metadata": {},
   "source": [
    "2) En la función que hace la conversión de grados, validar que los parámetros enviados sean los esperados, de no serlo, informar cuáles son los valores esperados."
   ]
  },
  {
   "cell_type": "code",
   "execution_count": 10,
   "metadata": {},
   "outputs": [],
   "source": [
    "class Fun_:\n",
    "    def __init__(self,lista_num):\n",
    "        self.lista=lista_num\n",
    "\n",
    "    def conversor_grados(self,escala1,escala2):\n",
    "        escalas = [\"C\",\"F\",\"K\"]\n",
    "        \n",
    "        if escala1 in escalas:\n",
    "            for i in self.lista:\n",
    "                if escala1 == \"C\"  and escala2 == \"C\":\n",
    "                    valor = i \n",
    "                if escala1 == \"C\"  and escala2 == \"F\":\n",
    "                    valor = i * 9/5 + 32\n",
    "                elif escala1 == \"C\"  and escala2 == \"K\":\n",
    "                    valor = i + 273.15\n",
    "                elif escala1 == \"F\"  and escala2 == \"F\":\n",
    "                    valor = i\n",
    "                elif escala1 == \"F\"  and escala2 == \"C\":\n",
    "                    valor = (i + 32)*5/9\n",
    "                elif escala1 == \"F\"  and escala2 == \"K\":\n",
    "                    valor = (i + 32)*5/9 +273.15\n",
    "                elif escala1 == \"K\"  and escala2 == \"K\":\n",
    "                    valor = i\n",
    "                elif escala1 == \"K\"  and escala2 == \"C\":\n",
    "                    valor = i - 273.15\n",
    "                elif escala1 == \"K\"  and escala2 == \"F\":\n",
    "                    valor = (i - 273.15) * 9/5 + 32\n",
    "                print(i,escala1,\"equivale a\",valor,escala2)\n",
    "        else:\n",
    "            print(\"No se reconocen las escalas,recuerde elegir entre C, K y F\")\n",
    "    \n",
    "    "
   ]
  },
  {
   "cell_type": "code",
   "execution_count": 8,
   "metadata": {},
   "outputs": [
    {
     "name": "stdout",
     "output_type": "stream",
     "text": [
      "No se reconocen las escalas,recuerde elegir entre C, K y F\n"
     ]
    }
   ],
   "source": [
    "fun2 = Fun_([2,3,4,2,6,8,4,3,4,6,4,0,4])\n",
    "fun2.conversor_grados(\"f\",\"h\")"
   ]
  },
  {
   "attachments": {},
   "cell_type": "markdown",
   "metadata": {},
   "source": [
    "3) Importar el modulo \"unittest\" y crear los siguientes casos de pruebas sobre la clase utilizada en el punto 2<br>\n",
    "Creacion del objeto incorrecta<br>\n",
    "Creacion correcta del objeto<br>\n",
    "Metodo valor_modal()<br>\n",
    "\n",
    "Se puede usar \"raise ValueError()\" en la creación de la clase para verificar el error. Investigar sobre esta funcionalidad."
   ]
  },
  {
   "cell_type": "code",
   "execution_count": 4,
   "metadata": {},
   "outputs": [],
   "source": [
    "import sys\n",
    "sys.path.append(r'/c:/Users/pablo/OneDrive/Documentos/CURSOS/HENRY/Python-Prep/M09_errorhandling/funciones2.py') "
   ]
  },
  {
   "cell_type": "code",
   "execution_count": 5,
   "metadata": {},
   "outputs": [],
   "source": [
    "import funciones2 as f"
   ]
  },
  {
   "cell_type": "code",
   "execution_count": 2,
   "metadata": {},
   "outputs": [],
   "source": [
    "import unittest\n",
    "    "
   ]
  },
  {
   "cell_type": "code",
   "execution_count": 5,
   "metadata": {},
   "outputs": [],
   "source": [
    "\n",
    "class Pruebas(unittest.TestCase):\n",
    "    def crearObjeto1(self):\n",
    "        var = 3\n",
    "        self.assertRaises(ValueError, f.Funciones2, var)\n",
    "\n",
    "    def crearObjeto2(self):\n",
    "        var = [1,2,2,5]\n",
    "        fu = f.Funciones2(var)\n",
    "        self.assertEqual(fu.lista, var)\n",
    "    \n",
    "    def testModal(self):\n",
    "        lista = [1,2,3,4,4]\n",
    "        li = f.Funciones2(lista)\n",
    "        moda, rep = li.modal2()\n",
    "        moda = [moda]\n",
    "        moda.append(rep)\n",
    "        res = [4, 2]\n",
    "        self.assertEqual(moda, res)\n"
   ]
  },
  {
   "cell_type": "code",
   "execution_count": 6,
   "metadata": {},
   "outputs": [
    {
     "name": "stderr",
     "output_type": "stream",
     "text": [
      "testModal (__main__.Pruebas.testModal) ... ok\n",
      "\n",
      "----------------------------------------------------------------------\n",
      "Ran 1 test in 0.002s\n",
      "\n",
      "OK\n"
     ]
    },
    {
     "data": {
      "text/plain": [
       "<unittest.main.TestProgram at 0x1a194095a50>"
      ]
     },
     "execution_count": 6,
     "metadata": {},
     "output_type": "execute_result"
    }
   ],
   "source": [
    "unittest.main(argv=[''], verbosity=2, exit=False)"
   ]
  },
  {
   "attachments": {},
   "cell_type": "markdown",
   "metadata": {},
   "source": [
    "4) Probar una creación incorrecta y visualizar la salida del \"raise\""
   ]
  },
  {
   "cell_type": "code",
   "execution_count": 7,
   "metadata": {},
   "outputs": [
    {
     "ename": "ValueError",
     "evalue": "Se ha creado una lista vacía. Se esperaba una lista de núemeros enteros",
     "output_type": "error",
     "traceback": [
      "\u001b[1;31m---------------------------------------------------------------------------\u001b[0m",
      "\u001b[1;31mValueError\u001b[0m                                Traceback (most recent call last)",
      "Cell \u001b[1;32mIn[7], line 1\u001b[0m\n\u001b[1;32m----> 1\u001b[0m f7 \u001b[38;5;241m=\u001b[39m \u001b[43mf\u001b[49m\u001b[38;5;241;43m.\u001b[39;49m\u001b[43mFunciones2\u001b[49m\u001b[43m(\u001b[49m\u001b[38;5;124;43m\"\u001b[39;49m\u001b[38;5;124;43maa\u001b[39;49m\u001b[38;5;124;43m\"\u001b[39;49m\u001b[43m)\u001b[49m\n",
      "File \u001b[1;32mc:\\Users\\pablo\\OneDrive\\Documentos\\CURSOS\\HENRY\\Python-Prep\\M09_errorhandling\\funciones2.py:5\u001b[0m, in \u001b[0;36mFunciones2.__init__\u001b[1;34m(self, lista_num)\u001b[0m\n\u001b[0;32m      3\u001b[0m \u001b[38;5;28;01mif\u001b[39;00m (\u001b[38;5;28mtype\u001b[39m(lista_num) \u001b[38;5;241m!=\u001b[39m \u001b[38;5;28mlist\u001b[39m):\n\u001b[0;32m      4\u001b[0m     \u001b[38;5;28mself\u001b[39m\u001b[38;5;241m.\u001b[39mlista \u001b[38;5;241m=\u001b[39m []\n\u001b[1;32m----> 5\u001b[0m     \u001b[38;5;28;01mraise\u001b[39;00m \u001b[38;5;167;01mValueError\u001b[39;00m(\u001b[38;5;124m'\u001b[39m\u001b[38;5;124mSe ha creado una lista vacía. Se esperaba una lista de núemeros enteros\u001b[39m\u001b[38;5;124m'\u001b[39m)  \n\u001b[0;32m      6\u001b[0m \u001b[38;5;28;01melse\u001b[39;00m:\n\u001b[0;32m      7\u001b[0m     \u001b[38;5;28mself\u001b[39m\u001b[38;5;241m.\u001b[39mlista \u001b[38;5;241m=\u001b[39m lista_num\n",
      "\u001b[1;31mValueError\u001b[0m: Se ha creado una lista vacía. Se esperaba una lista de núemeros enteros"
     ]
    }
   ],
   "source": [
    "f7 = f.Funciones2(\"aa\")"
   ]
  },
  {
   "attachments": {},
   "cell_type": "markdown",
   "metadata": {},
   "source": [
    "6) Agregar casos de pruebas para el método verifica_primos() realizando el cambio en la clase, para que devuelva una lista de True o False en función de que el elemento en la posisicón sea o no primo"
   ]
  },
  {
   "cell_type": "code",
   "execution_count": 31,
   "metadata": {},
   "outputs": [],
   "source": [
    "class Pruebas2(unittest.TestCase):\n",
    "    \n",
    "    def testPrimos(self):\n",
    "        lista = [1,2,3,4,5,6]\n",
    "        li = f.Funciones2(lista)\n",
    "        listaPrimos = li.primo()\n",
    "        resp = [True,True,True,False,True,False]\n",
    "        self.assertEqual(resp, listaPrimos)\n"
   ]
  },
  {
   "cell_type": "code",
   "execution_count": 83,
   "metadata": {},
   "outputs": [
    {
     "data": {
      "text/plain": [
       "<module 'funciones2' from 'c:\\\\Users\\\\pablo\\\\OneDrive\\\\Documentos\\\\CURSOS\\\\HENRY\\\\Python-Prep\\\\M09_errorhandling\\\\funciones2.py'>"
      ]
     },
     "execution_count": 83,
     "metadata": {},
     "output_type": "execute_result"
    }
   ],
   "source": [
    "import importlib \n",
    "importlib.reload(f)"
   ]
  },
  {
   "cell_type": "code",
   "execution_count": 84,
   "metadata": {},
   "outputs": [
    {
     "name": "stderr",
     "output_type": "stream",
     "text": [
      "testPrimos (__main__.Pruebas2.testPrimos) ... ok\n",
      "\n",
      "----------------------------------------------------------------------\n",
      "Ran 1 test in 0.002s\n",
      "\n",
      "OK\n"
     ]
    },
    {
     "data": {
      "text/plain": [
       "<unittest.main.TestProgram at 0x28b88552f90>"
      ]
     },
     "execution_count": 84,
     "metadata": {},
     "output_type": "execute_result"
    }
   ],
   "source": [
    "unittest.main(argv=[''], verbosity=2, exit=False)"
   ]
  },
  {
   "attachments": {},
   "cell_type": "markdown",
   "metadata": {},
   "source": [
    "7) Agregar casos de pruebas para el método conversion_grados()"
   ]
  },
  {
   "cell_type": "code",
   "execution_count": 92,
   "metadata": {},
   "outputs": [],
   "source": [
    "class Pruebas3(unittest.TestCase):\n",
    "    \n",
    "    def testConversion(self):\n",
    "        lista = [10,20,36,64]\n",
    "        li = f.Funciones2(lista)\n",
    "        listaGrados = li.conversor_grados(\"C\",\"K\")\n",
    "        resp = [283.15,293.15,309.15,337.15]\n",
    "        self.assertEqual(resp, listaGrados)"
   ]
  },
  {
   "cell_type": "code",
   "execution_count": 93,
   "metadata": {},
   "outputs": [
    {
     "data": {
      "text/plain": [
       "<module 'funciones2' from 'c:\\\\Users\\\\pablo\\\\OneDrive\\\\Documentos\\\\CURSOS\\\\HENRY\\\\Python-Prep\\\\M09_errorhandling\\\\funciones2.py'>"
      ]
     },
     "execution_count": 93,
     "metadata": {},
     "output_type": "execute_result"
    }
   ],
   "source": [
    "importlib.reload(f)"
   ]
  },
  {
   "cell_type": "code",
   "execution_count": 94,
   "metadata": {},
   "outputs": [
    {
     "name": "stderr",
     "output_type": "stream",
     "text": [
      "testPrimos (__main__.Pruebas2.testPrimos) ... ok\n",
      "testConversion (__main__.Pruebas3.testConversion) ... ok\n",
      "\n",
      "----------------------------------------------------------------------\n",
      "Ran 2 tests in 0.003s\n",
      "\n",
      "OK\n"
     ]
    },
    {
     "data": {
      "text/plain": [
       "<unittest.main.TestProgram at 0x28b886d14d0>"
      ]
     },
     "execution_count": 94,
     "metadata": {},
     "output_type": "execute_result"
    }
   ],
   "source": [
    "unittest.main(argv=[''], verbosity=2, exit=False)"
   ]
  },
  {
   "attachments": {},
   "cell_type": "markdown",
   "metadata": {},
   "source": [
    "8) Agregar casos de pruebas para el método factorial()"
   ]
  },
  {
   "cell_type": "code",
   "execution_count": 96,
   "metadata": {},
   "outputs": [],
   "source": [
    "class Pruebas4(unittest.TestCase):\n",
    "    \n",
    "    def testFactorial(self):\n",
    "        lista = [3,4,5,6]\n",
    "        li = f.Funciones2(lista)\n",
    "        listaFact = li.fact()\n",
    "        resp = [6,24,120,720]\n",
    "        self.assertEqual(resp, listaFact)"
   ]
  },
  {
   "cell_type": "code",
   "execution_count": 97,
   "metadata": {},
   "outputs": [
    {
     "data": {
      "text/plain": [
       "<module 'funciones2' from 'c:\\\\Users\\\\pablo\\\\OneDrive\\\\Documentos\\\\CURSOS\\\\HENRY\\\\Python-Prep\\\\M09_errorhandling\\\\funciones2.py'>"
      ]
     },
     "execution_count": 97,
     "metadata": {},
     "output_type": "execute_result"
    }
   ],
   "source": [
    "importlib.reload(f)"
   ]
  },
  {
   "cell_type": "code",
   "execution_count": 98,
   "metadata": {},
   "outputs": [
    {
     "name": "stderr",
     "output_type": "stream",
     "text": [
      "testPrimos (__main__.Pruebas2.testPrimos) ... ok\n",
      "testConversion (__main__.Pruebas3.testConversion) ... ok\n",
      "testFactorial (__main__.Pruebas4.testFactorial) ... ok\n",
      "\n",
      "----------------------------------------------------------------------\n",
      "Ran 3 tests in 0.004s\n",
      "\n",
      "OK\n"
     ]
    },
    {
     "data": {
      "text/plain": [
       "<unittest.main.TestProgram at 0x28b887138d0>"
      ]
     },
     "execution_count": 98,
     "metadata": {},
     "output_type": "execute_result"
    }
   ],
   "source": [
    "unittest.main(argv=[''], verbosity=2, exit=False)"
   ]
  }
 ],
 "metadata": {
  "interpreter": {
   "hash": "c85384e4cb51c8b72350f3a8712cc8351fdc3955e32a27f9b60c6242ab125f01"
  },
  "kernelspec": {
   "display_name": "Python 3 (ipykernel)",
   "language": "python",
   "name": "python3"
  },
  "language_info": {
   "codemirror_mode": {
    "name": "ipython",
    "version": 3
   },
   "file_extension": ".py",
   "mimetype": "text/x-python",
   "name": "python",
   "nbconvert_exporter": "python",
   "pygments_lexer": "ipython3",
   "version": "3.11.8"
  }
 },
 "nbformat": 4,
 "nbformat_minor": 4
}
