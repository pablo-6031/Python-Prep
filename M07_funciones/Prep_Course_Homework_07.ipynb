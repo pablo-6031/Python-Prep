{
 "cells": [
  {
   "attachments": {},
   "cell_type": "markdown",
   "metadata": {},
   "source": [
    "## Funciones"
   ]
  },
  {
   "attachments": {},
   "cell_type": "markdown",
   "metadata": {},
   "source": [
    "1) Crear una función que reciba un número como parámetro y devuelva True si es primo y False si no lo es"
   ]
  },
  {
   "cell_type": "code",
   "execution_count": 1,
   "metadata": {},
   "outputs": [],
   "source": [
    "def primo(numero):\n",
    "    cont=0\n",
    "    for i in range(2,numero+1):\n",
    "        if numero%i == 0:\n",
    "            cont+=1\n",
    "    if cont <2:\n",
    "        return True\n",
    "    else:\n",
    "        return False\n"
   ]
  },
  {
   "cell_type": "code",
   "execution_count": 7,
   "metadata": {},
   "outputs": [
    {
     "data": {
      "text/plain": [
       "True"
      ]
     },
     "execution_count": 7,
     "metadata": {},
     "output_type": "execute_result"
    }
   ],
   "source": [
    "primo(11)"
   ]
  },
  {
   "attachments": {},
   "cell_type": "markdown",
   "metadata": {},
   "source": [
    "2) Utilizando la función del punto 1, realizar otra función que reciba de parámetro una lista de números y devuelva sólo aquellos que son primos en otra lista"
   ]
  },
  {
   "cell_type": "code",
   "execution_count": 11,
   "metadata": {},
   "outputs": [],
   "source": [
    "def lista_primo(lista):\n",
    "    lis_prim = []\n",
    "    for i in lista:\n",
    "        if primo(i):\n",
    "            lis_prim.append(i)\n",
    "    return lis_prim"
   ]
  },
  {
   "cell_type": "code",
   "execution_count": 19,
   "metadata": {},
   "outputs": [
    {
     "name": "stdout",
     "output_type": "stream",
     "text": [
      "[1, 2, 3, 5, 7, 11, 13]\n"
     ]
    }
   ],
   "source": [
    "lista = [1,2,3,4,5,6,7,8,9,10,11,12,13,14,15]\n",
    "lista_p = lista_primo(lista)\n",
    "print(lista_p)"
   ]
  },
  {
   "attachments": {},
   "cell_type": "markdown",
   "metadata": {},
   "source": [
    "3) Crear una función que al recibir una lista de números, devuelva el que más se repite y cuántas veces lo hace. Si hay más de un \"más repetido\", que devuelva cualquiera"
   ]
  },
  {
   "cell_type": "code",
   "execution_count": 21,
   "metadata": {},
   "outputs": [],
   "source": [
    "def repetido(lista_numeros):\n",
    "    cont=0\n",
    "    valor=0\n",
    "    max=0\n",
    "    for i in lista_numeros:\n",
    "        for j in lista_numeros:\n",
    "            if i == j:\n",
    "                cont+=1\n",
    "        if cont>max:\n",
    "            valor=i\n",
    "            max=cont\n",
    "        cont=0\n",
    "    return valor , max"
   ]
  },
  {
   "cell_type": "code",
   "execution_count": 24,
   "metadata": {},
   "outputs": [
    {
     "name": "stdout",
     "output_type": "stream",
     "text": [
      "(4, 5)\n"
     ]
    }
   ],
   "source": [
    "lis_num=[2,3,4,2,6,8,4,3,4,6,4,0,4]\n",
    "print(repetido(lis_num))"
   ]
  },
  {
   "attachments": {},
   "cell_type": "markdown",
   "metadata": {},
   "source": [
    "4) Crear una función que convierta entre grados Celsius, Farenheit y Kelvin<br>\n",
    "Fórmula 1\t: (°C × 9/5) + 32 = °F<br>\n",
    "Fórmula 2\t: °C + 273.15 = °K<br>\n",
    "Debe recibir 3 parámetros: el valor, la medida de orígen y la medida de destino\n"
   ]
  },
  {
   "cell_type": "code",
   "execution_count": 30,
   "metadata": {},
   "outputs": [],
   "source": [
    "def conversor(valor,escala1,escala2):\n",
    "    if escala1 == \"C\"  and escala2 == \"C\":\n",
    "        return valor \n",
    "    if escala1 == \"C\"  and escala2 == \"F\":\n",
    "        return valor * 9/5 + 32\n",
    "    elif escala1 == \"C\"  and escala2 == \"K\":\n",
    "        return valor + 273.15\n",
    "    elif escala1 == \"F\"  and escala2 == \"F\":\n",
    "        return valor\n",
    "    elif escala1 == \"F\"  and escala2 == \"C\":\n",
    "        return (valor + 32)*5/9\n",
    "    elif escala1 == \"F\"  and escala2 == \"K\":\n",
    "        return (valor + 32)*5/9 +273.15\n",
    "    elif escala1 == \"K\"  and escala2 == \"K\":\n",
    "        return valor\n",
    "    elif escala1 == \"K\"  and escala2 == \"C\":\n",
    "        return valor - 273.15\n",
    "    elif escala1 == \"K\"  and escala2 == \"F\":\n",
    "        return (valor - 273.15) * 9/5 + 32"
   ]
  },
  {
   "cell_type": "code",
   "execution_count": 31,
   "metadata": {},
   "outputs": [
    {
     "name": "stdout",
     "output_type": "stream",
     "text": [
      "-402.07\n"
     ]
    }
   ],
   "source": [
    "print(conversor(32,\"K\",\"F\"))"
   ]
  },
  {
   "attachments": {},
   "cell_type": "markdown",
   "metadata": {},
   "source": [
    "5) Iterando una lista con los tres valores posibles de temperatura que recibe la función del punto 5, hacer un print para cada combinación de los mismos:"
   ]
  },
  {
   "cell_type": "code",
   "execution_count": 32,
   "metadata": {},
   "outputs": [
    {
     "name": "stdout",
     "output_type": "stream",
     "text": [
      "1 grado C es igual a 1 grados C\n",
      "1 grado C es igual a 33.8 grados F\n",
      "1 grado C es igual a 274.15 grados K\n",
      "1 grado F es igual a 18.333333333333332 grados C\n",
      "1 grado F es igual a 1 grados F\n",
      "1 grado F es igual a 291.4833333333333 grados K\n",
      "1 grado K es igual a -272.15 grados C\n",
      "1 grado K es igual a -457.87 grados F\n",
      "1 grado K es igual a 1 grados K\n"
     ]
    }
   ],
   "source": [
    "escalas = [\"C\",\"F\",\"K\"]\n",
    "for i in escalas:\n",
    "    for j in escalas:\n",
    "        print(\"1 grado \"+ str(i)+\" es igual a \" + str(conversor(1,str(i),str(j))) +\" grados \"+ str(j))"
   ]
  },
  {
   "attachments": {},
   "cell_type": "markdown",
   "metadata": {},
   "source": [
    "6) Armar una función que devuelva el factorial de un número. Tener en cuenta que el usuario puede equivocarse y enviar de parámetro un número no entero o negativo"
   ]
  },
  {
   "cell_type": "code",
   "execution_count": 40,
   "metadata": {},
   "outputs": [],
   "source": [
    "def factorial(num):\n",
    "    if num >=0:\n",
    "        if type(num)== int:\n",
    "            if(num>1):\n",
    "                num=num*factorial(num-1)\n",
    "            return num\n",
    "        else:\n",
    "            return \"Solo se permite numeros enteros\"\n",
    "    else:\n",
    "        return \"No se permite numeros negativos\"\n",
    "    \n",
    "    \n",
    "    "
   ]
  },
  {
   "cell_type": "code",
   "execution_count": 41,
   "metadata": {},
   "outputs": [
    {
     "name": "stdout",
     "output_type": "stream",
     "text": [
      "No se permite numeros negativos\n"
     ]
    }
   ],
   "source": [
    "print(factorial(-5))"
   ]
  }
 ],
 "metadata": {
  "interpreter": {
   "hash": "c85384e4cb51c8b72350f3a8712cc8351fdc3955e32a27f9b60c6242ab125f01"
  },
  "kernelspec": {
   "display_name": "Python 3 (ipykernel)",
   "language": "python",
   "name": "python3"
  },
  "language_info": {
   "codemirror_mode": {
    "name": "ipython",
    "version": 3
   },
   "file_extension": ".py",
   "mimetype": "text/x-python",
   "name": "python",
   "nbconvert_exporter": "python",
   "pygments_lexer": "ipython3",
   "version": "3.11.8"
  }
 },
 "nbformat": 4,
 "nbformat_minor": 4
}
