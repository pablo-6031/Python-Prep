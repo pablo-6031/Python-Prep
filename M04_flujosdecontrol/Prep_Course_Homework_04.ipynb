{
 "cells": [
  {
   "attachments": {},
   "cell_type": "markdown",
   "metadata": {},
   "source": [
    "## Flujos de Control"
   ]
  },
  {
   "attachments": {},
   "cell_type": "markdown",
   "metadata": {},
   "source": [
    "1) Crear una variable que contenga un elemento del conjunto de números enteros y luego imprimir por pantalla si es mayor o menor a cero"
   ]
  },
  {
   "cell_type": "code",
   "execution_count": null,
   "metadata": {},
   "outputs": [
    {
     "name": "stdout",
     "output_type": "stream",
     "text": [
      "la variable es mayor o igual a 0\n"
     ]
    }
   ],
   "source": [
    "var = 5\n",
    "if (var>=0):\n",
    " print(\"la variable es mayor o igual a 0\")\n",
    "else: print(\"la variable es menor a 0\")\n",
    "\n"
   ]
  },
  {
   "attachments": {},
   "cell_type": "markdown",
   "metadata": {},
   "source": [
    "2) Crear dos variables y un condicional que informe si son del mismo tipo de dato"
   ]
  },
  {
   "cell_type": "code",
   "execution_count": null,
   "metadata": {},
   "outputs": [
    {
     "name": "stdout",
     "output_type": "stream",
     "text": [
      "no son el mismo tipo de dato\n"
     ]
    }
   ],
   "source": [
    "var1 = 3\n",
    "var2 = \"4\"\n",
    "if type(var1)==type(var2):\n",
    "    print(\"son el mismo tipo de dato\")\n",
    "else:\n",
    "    print(\"no son el mismo tipo de dato\")\n"
   ]
  },
  {
   "attachments": {},
   "cell_type": "markdown",
   "metadata": {},
   "source": [
    "3) Para los valores enteros del 1 al 20, imprimir por pantalla si es par o impar"
   ]
  },
  {
   "cell_type": "code",
   "execution_count": null,
   "metadata": {},
   "outputs": [
    {
     "name": "stdout",
     "output_type": "stream",
     "text": [
      "el numero 1 es impar\n",
      "el numero 2 es par\n",
      "el numero 3 es impar\n",
      "el numero 4 es par\n",
      "el numero 5 es impar\n",
      "el numero 6 es par\n",
      "el numero 7 es impar\n",
      "el numero 8 es par\n",
      "el numero 9 es impar\n",
      "el numero 10 es par\n",
      "el numero 11 es impar\n",
      "el numero 12 es par\n",
      "el numero 13 es impar\n",
      "el numero 14 es par\n",
      "el numero 15 es impar\n",
      "el numero 16 es par\n",
      "el numero 17 es impar\n",
      "el numero 18 es par\n",
      "el numero 19 es impar\n",
      "el numero 20 es par\n"
     ]
    }
   ],
   "source": [
    "for num in range(1,21):\n",
    "    if num%2 == 0:\n",
    "        print(\"el numero \"+ str(num) + \" es par\")\n",
    "    else :\n",
    "        print(\"el numero \"+ str(num) + \" es impar\")"
   ]
  },
  {
   "attachments": {},
   "cell_type": "markdown",
   "metadata": {},
   "source": [
    "4) En un ciclo for mostrar para los valores entre 0 y 5 el resultado de elevarlo a la potencia igual a 3"
   ]
  },
  {
   "cell_type": "code",
   "execution_count": 134,
   "metadata": {},
   "outputs": [
    {
     "name": "stdout",
     "output_type": "stream",
     "text": [
      "el valor 0 elevado a la potencia 3 es 0\n",
      "el valor 1 elevado a la potencia 3 es 1\n",
      "el valor 2 elevado a la potencia 3 es 8\n",
      "el valor 3 elevado a la potencia 3 es 27\n",
      "el valor 4 elevado a la potencia 3 es 64\n",
      "el valor 5 elevado a la potencia 3 es 125\n"
     ]
    }
   ],
   "source": [
    "for i in range(0,6):\n",
    "    print(\"el valor \"+ str(i) + \" elevado a la potencia 3 es \"+ str(i**3))"
   ]
  },
  {
   "attachments": {},
   "cell_type": "markdown",
   "metadata": {},
   "source": [
    "5) Crear una variable que contenga un número entero y realizar un ciclo for la misma cantidad de ciclos"
   ]
  },
  {
   "cell_type": "code",
   "execution_count": null,
   "metadata": {},
   "outputs": [
    {
     "name": "stdout",
     "output_type": "stream",
     "text": [
      "0\n",
      "1\n",
      "2\n",
      "3\n",
      "4\n",
      "5\n",
      "6\n"
     ]
    }
   ],
   "source": [
    "var3 = 7\n",
    "for i in range(0,var3):\n",
    "    pass\n",
    "    print(i)\n",
    "\n",
    "    "
   ]
  },
  {
   "attachments": {},
   "cell_type": "markdown",
   "metadata": {},
   "source": [
    "6) Utilizar un ciclo while para realizar el factorial de un número guardado en una variable, sólo si la variable contiene un número entero mayor a 0"
   ]
  },
  {
   "cell_type": "code",
   "execution_count": null,
   "metadata": {},
   "outputs": [
    {
     "name": "stdout",
     "output_type": "stream",
     "text": [
      "el factorial de 8 es 40320\n"
     ]
    }
   ],
   "source": [
    "n = 8\n",
    "aux = n\n",
    "fact= 1;\n",
    "while aux > 0:\n",
    "    fact *=aux\n",
    "    aux-=1\n",
    "print(\"el factorial de \"+str(n)+ \" es \"+str(fact))"
   ]
  },
  {
   "attachments": {},
   "cell_type": "markdown",
   "metadata": {},
   "source": [
    "7) Crear un ciclo for dentro de un ciclo while"
   ]
  },
  {
   "cell_type": "code",
   "execution_count": 138,
   "metadata": {},
   "outputs": [
    {
     "name": "stdout",
     "output_type": "stream",
     "text": [
      "ciclo while 9\n",
      "ciclo for 9\n",
      "ciclo for 9\n",
      "ciclo for 9\n",
      "ciclo for 9\n",
      "ciclo for 9\n",
      "ciclo for 9\n",
      "ciclo for 9\n",
      "ciclo for 9\n",
      "ciclo for 9\n",
      "ciclo while 8\n",
      "ciclo for 8\n",
      "ciclo for 8\n",
      "ciclo for 8\n",
      "ciclo for 8\n",
      "ciclo for 8\n",
      "ciclo for 8\n",
      "ciclo for 8\n",
      "ciclo for 8\n",
      "ciclo while 7\n",
      "ciclo for 7\n",
      "ciclo for 7\n",
      "ciclo for 7\n",
      "ciclo for 7\n",
      "ciclo for 7\n",
      "ciclo for 7\n",
      "ciclo for 7\n",
      "ciclo while 6\n",
      "ciclo for 6\n",
      "ciclo for 6\n",
      "ciclo for 6\n",
      "ciclo for 6\n",
      "ciclo for 6\n",
      "ciclo for 6\n",
      "ciclo while 5\n",
      "ciclo for 5\n",
      "ciclo for 5\n",
      "ciclo for 5\n",
      "ciclo for 5\n",
      "ciclo for 5\n",
      "ciclo while 4\n",
      "ciclo for 4\n",
      "ciclo for 4\n",
      "ciclo for 4\n",
      "ciclo for 4\n",
      "ciclo while 3\n",
      "ciclo for 3\n",
      "ciclo for 3\n",
      "ciclo for 3\n",
      "ciclo while 2\n",
      "ciclo for 2\n",
      "ciclo for 2\n",
      "ciclo while 1\n",
      "ciclo for 1\n"
     ]
    }
   ],
   "source": [
    "n = 9\n",
    "while n >0:\n",
    "    print(\"ciclo while \" + str(n))\n",
    "    for i in range(0,n):\n",
    "        print(\"ciclo for \" + str(n))\n",
    "    n-=1;\n",
    "   \n"
   ]
  },
  {
   "attachments": {},
   "cell_type": "markdown",
   "metadata": {},
   "source": [
    "8) Crear un ciclo while dentro de un ciclo for"
   ]
  },
  {
   "cell_type": "code",
   "execution_count": 139,
   "metadata": {},
   "outputs": [
    {
     "name": "stdout",
     "output_type": "stream",
     "text": [
      "ciclo for\n",
      "ciclo while\n",
      "0\n",
      "ciclo for\n",
      "ciclo for\n",
      "ciclo while\n",
      "2\n",
      "ciclo for\n",
      "ciclo for\n",
      "ciclo while\n",
      "4\n",
      "ciclo for\n",
      "ciclo for\n",
      "ciclo while\n",
      "6\n",
      "ciclo for\n",
      "ciclo for\n",
      "ciclo while\n",
      "8\n",
      "ciclo for\n"
     ]
    }
   ],
   "source": [
    "for i in range(0,10):\n",
    "    print(\"ciclo for\")\n",
    "    while (i%2 == 0 ):\n",
    "        print(\"ciclo while\")\n",
    "        print(i)\n",
    "        i=i+1"
   ]
  },
  {
   "attachments": {},
   "cell_type": "markdown",
   "metadata": {},
   "source": [
    "9) Imprimir los números primos existentes entre 0 y 30"
   ]
  },
  {
   "cell_type": "code",
   "execution_count": 140,
   "metadata": {},
   "outputs": [
    {
     "name": "stdout",
     "output_type": "stream",
     "text": [
      "0\n",
      "1\n",
      "2\n",
      "3\n",
      "5\n",
      "7\n",
      "11\n",
      "13\n",
      "17\n",
      "19\n",
      "23\n",
      "29\n"
     ]
    }
   ],
   "source": [
    "n = 0\n",
    "primo = True\n",
    "while (n < 30):\n",
    "    for i in range(2,n):\n",
    "        if (n % i == 0):\n",
    "            primo = False\n",
    "    if (primo):\n",
    "        print(n)\n",
    "    else:\n",
    "        primo = True\n",
    "    n += 1\n"
   ]
  },
  {
   "attachments": {},
   "cell_type": "markdown",
   "metadata": {},
   "source": [
    "10) ¿Se puede mejorar el proceso del punto 9? Utilizar las sentencias break y/ó continue para tal fin"
   ]
  },
  {
   "cell_type": "code",
   "execution_count": null,
   "metadata": {},
   "outputs": [
    {
     "name": "stdout",
     "output_type": "stream",
     "text": [
      "0\n",
      "1\n",
      "2\n",
      "3\n",
      "5\n",
      "7\n",
      "11\n",
      "13\n",
      "17\n",
      "19\n",
      "23\n",
      "29\n"
     ]
    }
   ],
   "source": [
    "n = 0\n",
    "primo = True\n",
    "while (n < 30):\n",
    "    for i in range(2,n):\n",
    "        if (n % i == 0):\n",
    "            primo = False\n",
    "            break\n",
    "    if (primo):\n",
    "        print(n)\n",
    "    else:\n",
    "        primo = True\n",
    "    n += 1"
   ]
  },
  {
   "attachments": {},
   "cell_type": "markdown",
   "metadata": {},
   "source": [
    "11) En los puntos 9 y 10, se diseño un código que encuentra números primos y además se lo optimizó. ¿Es posible saber en qué medida se optimizó?"
   ]
  },
  {
   "cell_type": "code",
   "execution_count": null,
   "metadata": {},
   "outputs": [
    {
     "name": "stdout",
     "output_type": "stream",
     "text": [
      "0\n",
      "1\n",
      "2\n",
      "3\n",
      "5\n",
      "7\n",
      "11\n",
      "13\n",
      "17\n",
      "19\n",
      "23\n",
      "29\n",
      "Cantidad de ciclos sin break: 378\n"
     ]
    }
   ],
   "source": [
    "\n",
    "n = 0\n",
    "ciclos = 0\n",
    "primo = True\n",
    "while (n < 30):\n",
    "    for i in range(2,n):\n",
    "        ciclos += 1\n",
    "        if (n % i == 0):\n",
    "            primo = False\n",
    "    if (primo):\n",
    "        print(n)\n",
    "    else:\n",
    "        primo = True\n",
    "    n += 1\n",
    "print(\"Cantidad de ciclos sin break: \"+str(ciclos))"
   ]
  },
  {
   "cell_type": "code",
   "execution_count": null,
   "metadata": {},
   "outputs": [
    {
     "name": "stdout",
     "output_type": "stream",
     "text": [
      "0\n",
      "1\n",
      "2\n",
      "3\n",
      "5\n",
      "7\n",
      "11\n",
      "13\n",
      "17\n",
      "19\n",
      "23\n",
      "29\n",
      "Cantidad de ciclos con break: 134\n"
     ]
    }
   ],
   "source": [
    "\n",
    "n = 0\n",
    "ciclos = 0\n",
    "primo = True\n",
    "while (n < 30):\n",
    "    for i in range(2,n):\n",
    "        ciclos += 1\n",
    "        if (n % i == 0):\n",
    "            primo = False\n",
    "            break\n",
    "    if (primo):\n",
    "        print(n)\n",
    "    else:\n",
    "        primo = True\n",
    "    n += 1\n",
    "print(\"Cantidad de ciclos con break: \"+str(ciclos))"
   ]
  },
  {
   "attachments": {},
   "cell_type": "markdown",
   "metadata": {},
   "source": [
    "12) Aplicando continue, armar un ciclo while que solo imprima los valores divisibles por 12, dentro del rango de números de 100 a 300"
   ]
  },
  {
   "cell_type": "code",
   "execution_count": null,
   "metadata": {},
   "outputs": [
    {
     "name": "stdout",
     "output_type": "stream",
     "text": [
      "108\n",
      "120\n",
      "132\n",
      "144\n",
      "156\n",
      "168\n",
      "180\n",
      "192\n",
      "204\n",
      "216\n",
      "228\n",
      "240\n",
      "252\n",
      "264\n",
      "276\n",
      "288\n",
      "300\n"
     ]
    }
   ],
   "source": [
    "n = 100\n",
    "\n",
    "while (n<=300):\n",
    "    if (n%12 == 0):\n",
    "        print(n)\n",
    "    n+=1"
   ]
  },
  {
   "cell_type": "code",
   "execution_count": 90,
   "metadata": {},
   "outputs": [
    {
     "name": "stdout",
     "output_type": "stream",
     "text": [
      "mi nombre es pablo\n"
     ]
    }
   ],
   "source": []
  },
  {
   "attachments": {},
   "cell_type": "markdown",
   "metadata": {},
   "source": [
    "13) Utilizar la función **input()** que permite hacer ingresos por teclado, para encontrar números primos y dar la opción al usario de buscar el siguiente"
   ]
  },
  {
   "cell_type": "code",
   "execution_count": 133,
   "metadata": {},
   "outputs": [
    {
     "name": "stdout",
     "output_type": "stream",
     "text": [
      "El numero no es primo\n",
      "desea buscar el siguiente numero primo? (s/n)\n"
     ]
    }
   ],
   "source": [
    "\n",
    "n = int(input())\n",
    "primo = True\n",
    "band = True\n",
    "while(band):\n",
    "    for i in range(2,n):\n",
    "        if (n % i == 0):\n",
    "            primo = False\n",
    "            break\n",
    "    if (primo):\n",
    "        print(\"El numero es primo\")\n",
    "    else:\n",
    "        print(\"El numero no es primo\")\n",
    "        primo = True\n",
    "    print(\"desea buscar el siguiente numero primo? (s/n)\")\n",
    "    resp = str(input())\n",
    "    if(resp ==\"s\"):\n",
    "        band = True\n",
    "    else:\n",
    "        band = False\n",
    "    "
   ]
  },
  {
   "attachments": {},
   "cell_type": "markdown",
   "metadata": {},
   "source": [
    "14) Crear un ciclo while que encuentre dentro del rango de 100 a 300 el primer número divisible por 3 y además múltiplo de 6"
   ]
  },
  {
   "cell_type": "code",
   "execution_count": 129,
   "metadata": {},
   "outputs": [
    {
     "name": "stdout",
     "output_type": "stream",
     "text": [
      "102\n"
     ]
    }
   ],
   "source": [
    "n = 100\n",
    "numero = 0\n",
    "c = 0\n",
    "while(n <= 300):\n",
    "    for i in range(1,20):\n",
    "        if(n==i*6 and n%3 == 0 and c==0):\n",
    "            numero = n\n",
    "            c+=1\n",
    "            break\n",
    "    n+=1\n",
    "    \n",
    "print(numero)"
   ]
  }
 ],
 "metadata": {
  "interpreter": {
   "hash": "c85384e4cb51c8b72350f3a8712cc8351fdc3955e32a27f9b60c6242ab125f01"
  },
  "kernelspec": {
   "display_name": "Python 3 (ipykernel)",
   "language": "python",
   "name": "python3"
  },
  "language_info": {
   "codemirror_mode": {
    "name": "ipython",
    "version": 3
   },
   "file_extension": ".py",
   "mimetype": "text/x-python",
   "name": "python",
   "nbconvert_exporter": "python",
   "pygments_lexer": "ipython3",
   "version": "3.11.8"
  }
 },
 "nbformat": 4,
 "nbformat_minor": 4
}
