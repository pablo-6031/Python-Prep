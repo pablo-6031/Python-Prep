{
 "cells": [
  {
   "attachments": {},
   "cell_type": "markdown",
   "metadata": {},
   "source": [
    "## Clases y Programación Orientada a Objetos"
   ]
  },
  {
   "attachments": {},
   "cell_type": "markdown",
   "metadata": {},
   "source": [
    "1) Crear la clase vehículo que contenga los atributos:<br>\n",
    "Color<br>\n",
    "Si es moto, auto, camioneta ó camión<br>\n",
    "Cilindrada del motor"
   ]
  },
  {
   "cell_type": "code",
   "execution_count": 1,
   "metadata": {},
   "outputs": [],
   "source": [
    "class vehiculo:\n",
    "    def __init__ (self, color,categoria,cilindrada):\n",
    "        self.color = color\n",
    "        self.categoria = categoria\n",
    "        self.cilindrada = cilindrada\n"
   ]
  },
  {
   "attachments": {},
   "cell_type": "markdown",
   "metadata": {},
   "source": [
    "2) A la clase Vehiculo creada en el punto 1, agregar los siguientes métodos:<br>\n",
    "Acelerar<br>\n",
    "Frenar<br>\n",
    "Doblar<br>"
   ]
  },
  {
   "cell_type": "code",
   "execution_count": 11,
   "metadata": {},
   "outputs": [],
   "source": [
    "class Vehiculo:\n",
    "    def __init__ (self, color,categoria,cilindrada):\n",
    "        self.color = color\n",
    "        self.categoria = categoria\n",
    "        self.cilindrada = cilindrada\n",
    "        self.vel = 0\n",
    "        self.dobl = 0\n",
    "\n",
    "    def acelerar(self,vel):\n",
    "        self.vel += vel\n",
    "    def frenar(self,vel):\n",
    "        self.vel -= vel\n",
    "    def doblar(self,dobl):\n",
    "        self.dobl += dobl\n"
   ]
  },
  {
   "attachments": {},
   "cell_type": "markdown",
   "metadata": {},
   "source": [
    "3) Instanciar 3 objetos de la clase vehículo y ejecutar sus métodos, probar luego el resultado"
   ]
  },
  {
   "cell_type": "code",
   "execution_count": 12,
   "metadata": {},
   "outputs": [],
   "source": [
    "vehiculo1 = Vehiculo(\"azul\",\"Moto\",1)\n",
    "vehiculo2= Vehiculo(\"rojo\",\"Camion\",4)\n",
    "vehiculo3 = Vehiculo(\"negro\",\"Auto\",2)\n",
    "vehiculo1.acelerar(40)\n",
    "vehiculo1.frenar(10)\n",
    "vehiculo2.acelerar(50)\n",
    "vehiculo2.doblar(90)\n",
    "\n"
   ]
  },
  {
   "attachments": {},
   "cell_type": "markdown",
   "metadata": {},
   "source": [
    "4) Agregar a la clase Vehiculo, un método que muestre su estado, es decir, a que velocidad se encuentra y su dirección. Y otro método que muestre color, tipo y cilindrada"
   ]
  },
  {
   "cell_type": "code",
   "execution_count": 20,
   "metadata": {},
   "outputs": [],
   "source": [
    "class Vehiculo:\n",
    "    def __init__ (self, color,categoria,cilindrada):\n",
    "        self.color = color\n",
    "        self.categoria = categoria\n",
    "        self.cilindrada = cilindrada\n",
    "        self.vel = 0\n",
    "        self.dobl = 0\n",
    "\n",
    "    def acelerar(self,vel):\n",
    "        self.vel += vel\n",
    "    def frenar(self,vel):\n",
    "        self.vel -= vel\n",
    "    def doblar(self,dobl):\n",
    "        self.dobl += dobl\n",
    "    def mostrar(self):\n",
    "        print(\"Velocidad:\",self.vel,\"km/h\")\n",
    "        print(\"direccion:\",self.dobl)\n",
    "    def mostrar_descripcion(self):\n",
    "        print(\"Tipo de vehiculo:\",self.categoria)\n",
    "        print(\"Color:\",self.color)\n",
    "        print(\"Cilindrada:\",self.cilindrada)"
   ]
  },
  {
   "cell_type": "code",
   "execution_count": 21,
   "metadata": {},
   "outputs": [
    {
     "name": "stdout",
     "output_type": "stream",
     "text": [
      "Tipo de vehiculo: Moto\n",
      "Color: azul\n",
      "Cilindrada: 1\n",
      "Velocidad: 30 km/h\n",
      "direccion: 0\n"
     ]
    }
   ],
   "source": [
    "vehiculo1 = Vehiculo(\"azul\",\"Moto\",1)\n",
    "vehiculo2= Vehiculo(\"rojo\",\"Camion\",4)\n",
    "vehiculo3 = Vehiculo(\"negro\",\"Auto\",2)\n",
    "vehiculo1.acelerar(40)\n",
    "vehiculo1.frenar(10)\n",
    "vehiculo2.acelerar(50)\n",
    "vehiculo2.doblar(90)\n",
    "\n",
    "vehiculo1.mostrar_descripcion()\n",
    "vehiculo1.mostrar()\n"
   ]
  },
  {
   "attachments": {},
   "cell_type": "markdown",
   "metadata": {},
   "source": [
    "5) Crear una clase que permita utilizar las funciones creadas en la práctica del módulo 7<br>\n",
    "Verificar Primo<br>\n",
    "Valor modal<br>\n",
    "Conversión grados<br>\n",
    "Factorial<br>"
   ]
  },
  {
   "cell_type": "code",
   "execution_count": 44,
   "metadata": {},
   "outputs": [],
   "source": [
    "class Funciones_modulo7:\n",
    "    def __init__(self) -> None:\n",
    "        pass\n",
    "\n",
    "    def primo(self,numero):\n",
    "        cont=0\n",
    "        for i in range(2,numero+1):\n",
    "            if numero%i == 0:\n",
    "                cont+=1\n",
    "        if cont <2:\n",
    "            return True\n",
    "        else:\n",
    "            return False\n",
    "    \n",
    "    def modal(self,lista_numeros):\n",
    "        cont=0\n",
    "        valor=0\n",
    "        max=0\n",
    "        for i in lista_numeros:\n",
    "            for j in lista_numeros:\n",
    "                if i == j:\n",
    "                    cont+=1\n",
    "            if cont>max:\n",
    "                valor=i\n",
    "                max=cont\n",
    "            cont=0\n",
    "        return valor , max\n",
    "    \n",
    "    def conversor_grados(self,valor,escala1,escala2):\n",
    "        if escala1 == \"C\"  and escala2 == \"C\":\n",
    "            return valor \n",
    "        if escala1 == \"C\"  and escala2 == \"F\":\n",
    "            return valor * 9/5 + 32\n",
    "        elif escala1 == \"C\"  and escala2 == \"K\":\n",
    "            return valor + 273.15\n",
    "        elif escala1 == \"F\"  and escala2 == \"F\":\n",
    "            return valor\n",
    "        elif escala1 == \"F\"  and escala2 == \"C\":\n",
    "            return (valor + 32)*5/9\n",
    "        elif escala1 == \"F\"  and escala2 == \"K\":\n",
    "            return (valor + 32)*5/9 +273.15\n",
    "        elif escala1 == \"K\"  and escala2 == \"K\":\n",
    "            return valor\n",
    "        elif escala1 == \"K\"  and escala2 == \"C\":\n",
    "            return valor - 273.15\n",
    "        elif escala1 == \"K\"  and escala2 == \"F\":\n",
    "            return (valor - 273.15) * 9/5 + 32\n",
    "    \n",
    "    def factorial(self,num):\n",
    "        if num >=0:\n",
    "            if type(num)== int:\n",
    "                if(num>1):\n",
    "                    num=num*self.factorial(num-1)\n",
    "                return num\n",
    "            else:\n",
    "                return \"Solo se permite numeros enteros\"\n",
    "        else:\n",
    "            return \"No se permite numeros negativos\"\n"
   ]
  },
  {
   "attachments": {},
   "cell_type": "markdown",
   "metadata": {},
   "source": [
    "6) Probar las funciones incorporadas en la clase del punto 5"
   ]
  },
  {
   "cell_type": "code",
   "execution_count": 46,
   "metadata": {},
   "outputs": [
    {
     "name": "stdout",
     "output_type": "stream",
     "text": [
      "True\n",
      "(4, 5)\n",
      "-402.07\n",
      "40320\n"
     ]
    }
   ],
   "source": [
    "fun = Funciones_modulo7()\n",
    "\n",
    "print(fun.primo(5))\n",
    "print(fun.modal([2,3,4,2,6,8,4,3,4,6,4,0,4]))\n",
    "print(fun.conversor_grados(32,\"K\",\"F\"))\n",
    "print(fun.factorial(8))"
   ]
  },
  {
   "attachments": {},
   "cell_type": "markdown",
   "metadata": {},
   "source": [
    "7) Es necesario que la clase creada en el punto 5 contenga una lista, sobre la cual se apliquen las funciones incorporadas"
   ]
  },
  {
   "cell_type": "code",
   "execution_count": 54,
   "metadata": {},
   "outputs": [],
   "source": [
    "class Fun_modulo7:\n",
    "    def __init__(self,lista_num):\n",
    "        self.lista=lista_num\n",
    "\n",
    "    def primo(self):\n",
    "        cont=0\n",
    "        for i in self.lista:\n",
    "            for j in range(0,i):\n",
    "                if j%i == 0:\n",
    "                    cont+=1\n",
    "            if cont <2:\n",
    "                print(j,\"es un numero primo\")\n",
    "            else:\n",
    "                print(j,\"no es un numero primo\")\n",
    "    \n",
    "    def modal(self):\n",
    "        cont=0\n",
    "        valor=0\n",
    "        max=0\n",
    "        for i in self.lista:\n",
    "            for j in self.lista:\n",
    "                if i == j:\n",
    "                    cont+=1\n",
    "            if cont>max:\n",
    "                valor=i\n",
    "                max=cont\n",
    "            cont=0\n",
    "        print(\"El numero\",valor,\"de la lista es el mas repetido y se repite\",max,\"veces\")\n",
    "    \n",
    "    def conversor_grados(self,escala1,escala2):\n",
    "        for i in self.lista:\n",
    "            if escala1 == \"C\"  and escala2 == \"C\":\n",
    "                valor = i \n",
    "            if escala1 == \"C\"  and escala2 == \"F\":\n",
    "                valor = i * 9/5 + 32\n",
    "            elif escala1 == \"C\"  and escala2 == \"K\":\n",
    "                valor = i + 273.15\n",
    "            elif escala1 == \"F\"  and escala2 == \"F\":\n",
    "                valor = i\n",
    "            elif escala1 == \"F\"  and escala2 == \"C\":\n",
    "                valor = (i + 32)*5/9\n",
    "            elif escala1 == \"F\"  and escala2 == \"K\":\n",
    "                valor = (i + 32)*5/9 +273.15\n",
    "            elif escala1 == \"K\"  and escala2 == \"K\":\n",
    "                valor = i\n",
    "            elif escala1 == \"K\"  and escala2 == \"C\":\n",
    "                valor = i - 273.15\n",
    "            elif escala1 == \"K\"  and escala2 == \"F\":\n",
    "                valor = (i - 273.15) * 9/5 + 32\n",
    "            print(i,escala1,\"equivale a\",valor,escala2)\n",
    "    \n",
    "    def factorial(self,num):\n",
    "        if num >=0:\n",
    "            if type(num)== int:\n",
    "                if(num>1):\n",
    "                    num=num*self.factorial(num-1)\n",
    "                return num\n",
    "            else:\n",
    "                return \"Solo se permite numeros enteros\"\n",
    "        else:\n",
    "            return \"No se permite numeros negativos\"\n",
    "    def fact(self):\n",
    "        for i in self.lista:\n",
    "            print(\"El factorial de\",i,\"es:\",self.factorial(i))"
   ]
  },
  {
   "cell_type": "code",
   "execution_count": 56,
   "metadata": {},
   "outputs": [
    {
     "name": "stdout",
     "output_type": "stream",
     "text": [
      "1 es un numero primo\n",
      "2 no es un numero primo\n",
      "3 no es un numero primo\n",
      "1 no es un numero primo\n",
      "5 no es un numero primo\n",
      "7 no es un numero primo\n",
      "3 no es un numero primo\n",
      "2 no es un numero primo\n",
      "3 no es un numero primo\n",
      "5 no es un numero primo\n",
      "3 no es un numero primo\n",
      "3 no es un numero primo\n",
      "3 no es un numero primo\n",
      "El numero 4 de la lista es el mas repetido y se repite 5 veces\n",
      "2 K equivale a -456.07 F\n",
      "3 K equivale a -454.27 F\n",
      "4 K equivale a -452.46999999999997 F\n",
      "2 K equivale a -456.07 F\n",
      "6 K equivale a -448.87 F\n",
      "8 K equivale a -445.27 F\n",
      "4 K equivale a -452.46999999999997 F\n",
      "3 K equivale a -454.27 F\n",
      "4 K equivale a -452.46999999999997 F\n",
      "6 K equivale a -448.87 F\n",
      "4 K equivale a -452.46999999999997 F\n",
      "0 K equivale a -459.66999999999996 F\n",
      "4 K equivale a -452.46999999999997 F\n",
      "El factorial de 2 es: 2\n",
      "El factorial de 3 es: 6\n",
      "El factorial de 4 es: 24\n",
      "El factorial de 2 es: 2\n",
      "El factorial de 6 es: 720\n",
      "El factorial de 8 es: 40320\n",
      "El factorial de 4 es: 24\n",
      "El factorial de 3 es: 6\n",
      "El factorial de 4 es: 24\n",
      "El factorial de 6 es: 720\n",
      "El factorial de 4 es: 24\n",
      "El factorial de 0 es: 0\n",
      "El factorial de 4 es: 24\n"
     ]
    }
   ],
   "source": [
    "fun2 = Fun_modulo7([2,3,4,2,6,8,4,3,4,6,4,0,4])\n",
    "\n",
    "fun2.primo()\n",
    "fun2.modal()\n",
    "fun2.conversor_grados(\"K\",\"F\")\n",
    "fun2.fact()"
   ]
  },
  {
   "attachments": {},
   "cell_type": "markdown",
   "metadata": {},
   "source": [
    "8) Crear un archivo .py aparte y ubicar allí la clase generada en el punto anterior. Luego realizar la importación del módulo y probar alguna de sus funciones"
   ]
  },
  {
   "cell_type": "code",
   "execution_count": 57,
   "metadata": {},
   "outputs": [
    {
     "name": "stdout",
     "output_type": "stream",
     "text": [
      "1 es un numero primo\n",
      "2 no es un numero primo\n",
      "3 no es un numero primo\n",
      "1 no es un numero primo\n",
      "5 no es un numero primo\n",
      "7 no es un numero primo\n",
      "3 no es un numero primo\n",
      "2 no es un numero primo\n",
      "3 no es un numero primo\n",
      "5 no es un numero primo\n",
      "3 no es un numero primo\n",
      "3 no es un numero primo\n",
      "3 no es un numero primo\n",
      "El numero 4 de la lista es el mas repetido y se repite 5 veces\n",
      "2 K equivale a -456.07 F\n",
      "3 K equivale a -454.27 F\n",
      "4 K equivale a -452.46999999999997 F\n",
      "2 K equivale a -456.07 F\n",
      "6 K equivale a -448.87 F\n",
      "8 K equivale a -445.27 F\n",
      "4 K equivale a -452.46999999999997 F\n",
      "3 K equivale a -454.27 F\n",
      "4 K equivale a -452.46999999999997 F\n",
      "6 K equivale a -448.87 F\n",
      "4 K equivale a -452.46999999999997 F\n",
      "0 K equivale a -459.66999999999996 F\n",
      "4 K equivale a -452.46999999999997 F\n",
      "El factorial de 2 es: 2\n",
      "El factorial de 3 es: 6\n",
      "El factorial de 4 es: 24\n",
      "El factorial de 2 es: 2\n",
      "El factorial de 6 es: 720\n",
      "El factorial de 8 es: 40320\n",
      "El factorial de 4 es: 24\n",
      "El factorial de 3 es: 6\n",
      "El factorial de 4 es: 24\n",
      "El factorial de 6 es: 720\n",
      "El factorial de 4 es: 24\n",
      "El factorial de 0 es: 0\n",
      "El factorial de 4 es: 24\n"
     ]
    }
   ],
   "source": [
    "from funciones import *\n",
    "fun3 = Funciones([2,3,4,2,6,8,4,3,4,6,4,0,4])\n",
    "\n",
    "fun3.primo()\n",
    "fun3.modal()\n",
    "fun3.conversor_grados(\"K\",\"F\")\n",
    "fun3.fact()"
   ]
  }
 ],
 "metadata": {
  "interpreter": {
   "hash": "c85384e4cb51c8b72350f3a8712cc8351fdc3955e32a27f9b60c6242ab125f01"
  },
  "kernelspec": {
   "display_name": "Python 3 (ipykernel)",
   "language": "python",
   "name": "python3"
  },
  "language_info": {
   "codemirror_mode": {
    "name": "ipython",
    "version": 3
   },
   "file_extension": ".py",
   "mimetype": "text/x-python",
   "name": "python",
   "nbconvert_exporter": "python",
   "pygments_lexer": "ipython3",
   "version": "3.11.8"
  }
 },
 "nbformat": 4,
 "nbformat_minor": 4
}
